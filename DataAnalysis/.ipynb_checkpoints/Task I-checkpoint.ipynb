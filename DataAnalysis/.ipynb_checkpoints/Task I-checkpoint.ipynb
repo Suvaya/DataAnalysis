{
 "cells": [
  {
   "cell_type": "code",
   "execution_count": 2,
   "id": "e913f1ff",
   "metadata": {},
   "outputs": [
    {
     "name": "stdout",
     "output_type": "stream",
     "text": [
      "['Australia', 'Austria', 'Belgium', 'Brazil', 'Canada', 'Chile', 'China', 'Colombia', 'Czech Republic', 'Denmark', 'Estonia', 'Finland', 'France', 'Germany', 'Greece', 'Hungary', 'India', 'Indonesia', 'Ireland', 'Israel', 'Italy', 'Japan', 'Korea', 'Latvia', 'Lithuania', 'Malaysia', 'Mexico', 'Netherlands', 'New Zealand', 'Nigeria', 'Norway', 'Philippines', 'Poland', 'Portugal', 'Romania', 'Russia', 'Saudi Arabia', 'Slovak Republic', 'South Africa', 'Spain', 'Sweden', 'Switzerland', 'Thailand', 'Turkey', 'Ukraine', 'United Arab Emirates', 'United Kingdom', 'United States', 'Vietnam']\n"
     ]
    }
   ],
   "source": [
    "import pandas as pd\n",
    "import numpy as np\n",
    "\n",
    "df = pd.read_csv('pass.csv')\n",
    "\n",
    "country_list = []\n",
    "\n",
    "for i in df.country:\n",
    "    if i in country_list:\n",
    "        continue\n",
    "    else: \n",
    "        country_list.append(i)\n",
    "\n",
    "print(country_list)"
   ]
  },
  {
   "cell_type": "code",
   "execution_count": 5,
   "id": "ce370de8",
   "metadata": {
    "scrolled": true
   },
   "outputs": [
    {
     "name": "stdout",
     "output_type": "stream",
     "text": [
      "5200    The most common password in Mexico is: 123456\n",
      "Name: Password, dtype: object\n"
     ]
    }
   ],
   "source": [
    "newTable = df[['country', 'Password', 'User_count']]\n",
    "\n",
    "mexico = newTable.loc[newTable['country'] == 'Mexico']                      \n",
    "\n",
    "max = 0\n",
    "\n",
    "for a in mexico.User_count:\n",
    "    if(a>max):\n",
    "        max = a\n",
    "\n",
    "mcp = mexico.loc[newTable['User_count'] == max]\n",
    "\n",
    "print('The most common password in Mexico is: ' + mcp.Password)"
   ]
  },
  {
   "cell_type": "code",
   "execution_count": 6,
   "id": "125fbb0c",
   "metadata": {},
   "outputs": [
    {
     "name": "stdout",
     "output_type": "stream",
     "text": [
      "The password that took the longest time to crack in Belgium is: ordinateur\n"
     ]
    }
   ],
   "source": [
    "newTable = df[['country', 'Password', 'User_count', 'Time_to_crack_in_seconds']]\n",
    "\n",
    "belgium = newTable.loc[newTable['country'] == 'Belgium']                      \n",
    "\n",
    "array = []\n",
    "\n",
    "max1 = 0\n",
    "for b in belgium.Time_to_crack_in_seconds:\n",
    "    if(b>max):\n",
    "        max1 = b\n",
    "        \n",
    "ltc = belgium.loc[newTable['Time_to_crack_in_seconds'] == max1]\n",
    "\n",
    "for a in ltc.Password:\n",
    "    passw = a\n",
    "    \n",
    "print('The password that took the longest time to crack in Belgium is: ' + passw)\n",
    "\n"
   ]
  },
  {
   "cell_type": "code",
   "execution_count": 63,
   "id": "81a7daec",
   "metadata": {},
   "outputs": [
    {
     "data": {
      "text/plain": [
       "array([[<AxesSubplot:title={'center':'User_count'}>,\n",
       "        <AxesSubplot:title={'center':'Time_to_crack_in_seconds'}>]],\n",
       "      dtype=object)"
      ]
     },
     "execution_count": 63,
     "metadata": {},
     "output_type": "execute_result"
    },
    {
     "data": {
      "image/png": "[encoded data removed]",
      "text/plain": [
       "<Figure size 432x288 with 2 Axes>"
      ]
     },
     "metadata": {
      "needs_background": "light"
     },
     "output_type": "display_data"
    }
   ],
   "source": [
    "turkey = newTable.loc[newTable['country'] == 'Turkey']\n",
    "\n",
    "turkey = turkey.drop('country', axis=1)\n",
    "\n",
    "passs = []\n",
    "users = []\n",
    "\n",
    "# for i in turkey.Password:\n",
    "#     passs.append(i)\n",
    "    \n",
    "# for j in turkey.Time_to_crack_in_seconds:\n",
    "#     users.append(j)\n",
    "    \n",
    "# df1 = pd.DataFrame({users})\n",
    "\n",
    "turkeyPass = turkey.drop('Password', axis = 1)\n",
    "\n",
    "turkeyPass.hist()"
   ]
  }
 ],
 "metadata": {
  "kernelspec": {
   "display_name": "Python 3",
   "language": "python",
   "name": "python3"
  },
  "language_info": {
   "codemirror_mode": {
    "name": "ipython",
    "version": 3
   },
   "file_extension": ".py",
   "mimetype": "text/x-python",
   "name": "python",
   "nbconvert_exporter": "python",
   "pygments_lexer": "ipython3",
   "version": "3.8.8"
  }
 },
 "nbformat": 4,
 "nbformat_minor": 5
}
